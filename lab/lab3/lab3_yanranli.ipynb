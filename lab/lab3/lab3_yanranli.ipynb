{
 "cells": [
  {
   "cell_type": "markdown",
   "id": "197562f3",
   "metadata": {},
   "source": [
    "Q1"
   ]
  },
  {
   "cell_type": "code",
   "execution_count": 1,
   "id": "1315e941",
   "metadata": {},
   "outputs": [],
   "source": [
    "import networkx as nx\n",
    "G = nx.erdos_renyi_graph(100, 0.1, seed =123) "
   ]
  },
  {
   "cell_type": "code",
   "execution_count": 2,
   "id": "745bb199",
   "metadata": {},
   "outputs": [],
   "source": [
    "def bfs(G, discovered, latest, dist, layer):\n",
    "    # discover new nodes\n",
    "    neighbors = set()\n",
    "    for node in latest:\n",
    "        for neighbor in G.neighbors(node):\n",
    "            neighbors.add(neighbor)\n",
    "    latest = neighbors - discovered\n",
    "    # update distance\n",
    "    if len(latest) == 0:\n",
    "        return print(layer)\n",
    "    else:\n",
    "        discovered = discovered | latest\n",
    "        for node in latest:\n",
    "            layer[node] = dist\n",
    "        bfs(G, discovered, latest, dist+ 1, layer)"
   ]
  },
  {
   "cell_type": "code",
   "execution_count": 3,
   "id": "1ded8858",
   "metadata": {},
   "outputs": [
    {
     "name": "stdout",
     "output_type": "stream",
     "text": [
      "{5: 0, 35: 1, 4: 1, 15: 1, 16: 1, 81: 1, 19: 1, 23: 1, 0: 2, 1: 2, 2: 2, 7: 2, 9: 2, 11: 2, 13: 2, 14: 2, 17: 2, 22: 2, 26: 2, 27: 2, 28: 2, 29: 2, 31: 2, 32: 2, 34: 2, 39: 2, 41: 2, 42: 2, 43: 2, 47: 2, 50: 2, 52: 2, 53: 2, 54: 2, 57: 2, 59: 2, 61: 2, 63: 2, 64: 2, 68: 2, 70: 2, 71: 2, 72: 2, 74: 2, 75: 2, 77: 2, 78: 2, 79: 2, 83: 2, 86: 2, 87: 2, 88: 2, 89: 2, 93: 2, 94: 2, 95: 2, 98: 2, 99: 2, 3: 3, 6: 3, 8: 3, 10: 3, 12: 3, 18: 3, 20: 3, 21: 3, 24: 3, 25: 3, 30: 3, 33: 3, 36: 3, 37: 3, 38: 3, 40: 3, 44: 3, 45: 3, 46: 3, 48: 3, 49: 3, 51: 3, 55: 3, 56: 3, 58: 3, 60: 3, 62: 3, 65: 3, 66: 3, 67: 3, 69: 3, 73: 3, 76: 3, 80: 3, 82: 3, 84: 3, 85: 3, 90: 3, 91: 3, 92: 3, 96: 3, 97: 3}\n"
     ]
    }
   ],
   "source": [
    "s = 5\n",
    "dist = {s:0}\n",
    "discovered = set([5])\n",
    "latest = set([5])\n",
    "bfs(G, discovered, latest, 1, dist)"
   ]
  },
  {
   "cell_type": "markdown",
   "id": "6f319274",
   "metadata": {},
   "source": [
    "Q2"
   ]
  },
  {
   "cell_type": "code",
   "execution_count": 4,
   "id": "b77ffb10",
   "metadata": {},
   "outputs": [
    {
     "name": "stdout",
     "output_type": "stream",
     "text": [
      "True\n"
     ]
    }
   ],
   "source": [
    "dist_nx = nx.shortest_path_length(G, source = s)\n",
    "match  = True\n",
    "for node in G.nodes():\n",
    "    if dist[node] != dist_nx[node]:\n",
    "        match = False\n",
    "        break\n",
    "print(match)"
   ]
  }
 ],
 "metadata": {
  "@webio": {
   "lastCommId": null,
   "lastKernelId": null
  },
  "kernelspec": {
   "display_name": "Python 3 (ipykernel)",
   "language": "python",
   "name": "python3"
  },
  "language_info": {
   "codemirror_mode": {
    "name": "ipython",
    "version": 3
   },
   "file_extension": ".py",
   "mimetype": "text/x-python",
   "name": "python",
   "nbconvert_exporter": "python",
   "pygments_lexer": "ipython3",
   "version": "3.10.6"
  }
 },
 "nbformat": 4,
 "nbformat_minor": 5
}
